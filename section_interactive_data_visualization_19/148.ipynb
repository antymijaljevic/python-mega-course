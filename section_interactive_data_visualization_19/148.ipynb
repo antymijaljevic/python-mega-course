{
 "cells": [
  {
   "cell_type": "code",
   "execution_count": 3,
   "metadata": {},
   "outputs": [],
   "source": [
    "from bokeh.plotting import figure\n",
    "from bokeh.io import output_file, show\n",
    "\n",
    "x = [4, 5, 6, 7, 8]\n",
    "y = [2.35, 2.00, 3.00, 4.00, 1.00]\n",
    "\n",
    "output = output_file(\"ada_graph.html\")\n",
    "\n",
    "f = figure()\n",
    "# f.circle(x, y)\n",
    "f.triangle(x, y)\n",
    "\n",
    "show(f)\n"
   ]
  }
 ],
 "metadata": {
  "interpreter": {
   "hash": "015bdde81a98bc1e028bb97bef17e86a59274762af003aa26e7fcce427847aed"
  },
  "kernelspec": {
   "display_name": "Python 3.9.7 64-bit",
   "name": "python3"
  },
  "language_info": {
   "codemirror_mode": {
    "name": "ipython",
    "version": 3
   },
   "file_extension": ".py",
   "mimetype": "text/x-python",
   "name": "python",
   "nbconvert_exporter": "python",
   "pygments_lexer": "ipython3",
   "version": "3.9.7"
  },
  "orig_nbformat": 4
 },
 "nbformat": 4,
 "nbformat_minor": 2
}
