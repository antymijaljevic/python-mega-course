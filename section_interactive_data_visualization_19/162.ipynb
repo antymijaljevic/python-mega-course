{
 "cells": [
  {
   "cell_type": "code",
   "execution_count": 1,
   "metadata": {},
   "outputs": [],
   "source": [
    "https://docs.bokeh.org/en/latest/docs/gallery/latex_blackbody_radiation.html\n",
    "\n",
    "import numpy as np\n",
    "\n",
    "from bokeh.io import curdoc\n",
    "from bokeh.layouts import column\n",
    "from bokeh.models import Div\n",
    "from bokeh.palettes import Spectral\n",
    "from bokeh.plotting import figure, show\n",
    "\n",
    "p = figure(\n",
    "    width=700, height=500, toolbar_location=None,\n",
    "    title=\"Black body spectral radiance as a function of frequency\")\n",
    "\n",
    "def spectral_radiance(nu, T):\n",
    "    h = 6.626e-34   # Planck constant (Js)\n",
    "    k = 1.3806e-23  # Boltzman constant (J/K)\n",
    "    c = 2.9979e8    # Speed of light in vacuum (m/s)\n",
    "    return (2*h*nu**3/c**2) / (np.exp(h*nu/(k*T)) - 1.0)\n",
    "\n",
    "Ts = np.arange(2000, 6001, 500)  # Temperature (K)\n",
    "palette = Spectral[len(Ts)]\n",
    "nu = np.linspace(0.1, 1e15, 500)  # Frequency (1/s)\n",
    "\n",
    "for i, T in enumerate(Ts):\n",
    "    B_nu = spectral_radiance(nu, T)\n",
    "    p.line(nu/1e15, B_nu/1e-9, line_width=2,\n",
    "             legend_label=f\"T = {T} K\", line_color=palette[i])\n",
    "p.legend.items = list(reversed(p.legend.items))\n",
    "\n",
    "# Peak radiance line.\n",
    "Ts = np.linspace(1900, 6101, 50)\n",
    "peak_freqs = Ts*5.879e10\n",
    "peak_radiance = spectral_radiance(peak_freqs, Ts)\n",
    "p.line(peak_freqs/1e15, peak_radiance/1e-9, line_color=\"silver\",\n",
    "         line_dash=\"dashed\", line_width=2, legend_label=\"Peak radiance\")\n",
    "\n",
    "curdoc().theme = 'dark_minimal'\n",
    "p.y_range.start = 0\n",
    "p.xaxis.axis_label = r\"$$\\color{white} \\nu \\:(10^{15} s^{-1})$$\"\n",
    "p.yaxis.axis_label = r\"$$\\color{white} B_\\nu(\\nu, T) \\quad(10^{-9} J s m^{-3})$$\"\n",
    "\n",
    "div = Div(text=r\"\"\"\n",
    "A plot of the spectral radiance, defined as a function of the frequency $$\\nu$$, is given by the formula\n",
    "<p \\>\n",
    "$$\n",
    "\\qquad B_\\nu(\\nu, T) = \\frac{2h\\nu^3}{c^2} \\frac{1}{\\exp(h\\nu/kT)-1}\\ .\n",
    "$$\n",
    "\"\"\")\n",
    "show(column(p, div))"
   ]
  }
 ],
 "metadata": {
  "interpreter": {
   "hash": "015bdde81a98bc1e028bb97bef17e86a59274762af003aa26e7fcce427847aed"
  },
  "kernelspec": {
   "display_name": "Python 3.9.7 64-bit",
   "name": "python3"
  },
  "language_info": {
   "codemirror_mode": {
    "name": "ipython",
    "version": 3
   },
   "file_extension": ".py",
   "mimetype": "text/x-python",
   "name": "python",
   "nbconvert_exporter": "python",
   "pygments_lexer": "ipython3",
   "version": "3.9.7"
  },
  "orig_nbformat": 4
 },
 "nbformat": 4,
 "nbformat_minor": 2
}
