{
 "cells": [
  {
   "cell_type": "code",
   "execution_count": 12,
   "metadata": {},
   "outputs": [],
   "source": [
    "import pandas\n",
    "from bokeh.plotting import figure\n",
    "from bokeh.io import output_file, show\n",
    " \n",
    "p=figure(plot_width=500,plot_height=400, tools='pan') # , logo=None\n",
    " \n",
    "p.title.text=\"Cool Data\"\n",
    "p.title.text_color=\"Gray\"\n",
    "p.title.text_font=\"times\"\n",
    "p.title.text_font_style=\"bold\"\n",
    "p.xaxis.minor_tick_line_color=None\n",
    "p.yaxis.minor_tick_line_color=None\n",
    "p.xaxis.axis_label=\"Date\"\n",
    "p.yaxis.axis_label=\"Intensity\"    \n",
    " \n",
    "p.line([1,2,3],[4,5,6])\n",
    "output_file(\"graph.html\")\n",
    "show(p)"
   ]
  }
 ],
 "metadata": {
  "interpreter": {
   "hash": "015bdde81a98bc1e028bb97bef17e86a59274762af003aa26e7fcce427847aed"
  },
  "kernelspec": {
   "display_name": "Python 3.9.7 64-bit",
   "name": "python3"
  },
  "language_info": {
   "codemirror_mode": {
    "name": "ipython",
    "version": 3
   },
   "file_extension": ".py",
   "mimetype": "text/x-python",
   "name": "python",
   "nbconvert_exporter": "python",
   "pygments_lexer": "ipython3",
   "version": "3.9.7"
  },
  "orig_nbformat": 4
 },
 "nbformat": 4,
 "nbformat_minor": 2
}
